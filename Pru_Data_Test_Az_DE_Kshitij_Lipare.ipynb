{
  "nbformat": 4,
  "nbformat_minor": 0,
  "metadata": {
    "celltoolbar": "Raw Cell Format",
    "kernelspec": {
      "display_name": "Python 3",
      "language": "python",
      "name": "python3"
    },
    "language_info": {
      "codemirror_mode": {
        "name": "ipython",
        "version": 3
      },
      "file_extension": ".py",
      "mimetype": "text/x-python",
      "name": "python",
      "nbconvert_exporter": "python",
      "pygments_lexer": "ipython3",
      "version": "3.6.4"
    },
    "toc": {
      "colors": {
        "hover_highlight": "#DAA520",
        "running_highlight": "#FF0000",
        "selected_highlight": "#FFD700"
      },
      "moveMenuLeft": true,
      "nav_menu": {},
      "navigate_menu": true,
      "number_sections": true,
      "sideBar": true,
      "skip_h1_title": false,
      "threshold": 4,
      "toc_cell": false,
      "toc_position": {
        "height": "977px",
        "left": "0px",
        "right": "1457.01px",
        "top": "107px",
        "width": "214px"
      },
      "toc_section_display": "block",
      "toc_window_display": true
    },
    "colab": {
      "name": "Pru_Data_Test_Kshitij_Lipare",
      "provenance": [],
      "collapsed_sections": [],
      "include_colab_link": true
    }
  },
  "cells": [
    {
      "cell_type": "markdown",
      "metadata": {
        "id": "view-in-github",
        "colab_type": "text"
      },
      "source": [
        "<a href=\"https://colab.research.google.com/github/klipare/10fa_az_de_kshitij_lipare/blob/main/Pru_Data_Test_Az_DE_Kshitij_Lipare.ipynb\" target=\"_parent\"><img src=\"https://colab.research.google.com/assets/colab-badge.svg\" alt=\"Open In Colab\"/></a>"
      ]
    },
    {
      "cell_type": "markdown",
      "metadata": {
        "run_control": {
          "marked": true
        },
        "id": "wIzLnvke21O0"
      },
      "source": [
        "# Pru Wealth Data Test\n",
        "\n",
        "Below we will explore a mock database of customers, policies and funds that are similar to the Pru Wealth data. The first section of this notebook will test your SQL skills, the second section will test your Python skills and visualisation skills.\n",
        "\n",
        "The database file is called Prudential_Data.db\n",
        "\n",
        "The three tables included in this database are:\n",
        "* Customer_Table\n",
        "* Policy_Table\n",
        "* Fund_Table\n",
        "\n",
        "You will need to have the following packages installed in your Python environment:\n",
        "* numpy\n",
        "* pandas\n",
        "* sqlite3\n",
        "\n",
        "For visualization use any package of your choice (e.g., matplotlib, seaborn, plotly).\n",
        "\n",
        "Please complete and return the test before the deadline by emailing your copy of this notebook to: Denholm.Hesse@Prudential.co.uk. If you do not know the answer to a question feel free to use Google and Stack Overflow. This is to give you the option to teach yourself a concept from the internet to address a question which you do not know the answer to, please refrain from skipping questions. The test is meant to be completed by you only.\n",
        "\n",
        "Good luck and have fun!"
      ]
    },
    {
      "cell_type": "code",
      "metadata": {
        "run_control": {
          "marked": true
        },
        "id": "qgGW_vuj21PB"
      },
      "source": [
        "import numpy as np\n",
        "import pandas as pd\n",
        "import sqlite3"
      ],
      "execution_count": 1,
      "outputs": []
    },
    {
      "cell_type": "markdown",
      "metadata": {
        "run_control": {
          "marked": true
        },
        "id": "xieN8pTh21PD"
      },
      "source": [
        "# SQL test\n",
        "\n",
        "IMPORANT: Please make sure all questions in this section are solved using SQL by only editing the content of the variable *sqlite_query*. Please do not edit the below cell:"
      ]
    },
    {
      "cell_type": "code",
      "metadata": {
        "run_control": {
          "marked": true
        },
        "id": "RG3Iz78921PE"
      },
      "source": [
        "# Establish DB connection\n",
        "conn = sqlite3.connect('Prudential_Data.db')"
      ],
      "execution_count": 2,
      "outputs": []
    },
    {
      "cell_type": "markdown",
      "metadata": {
        "id": "YEYurCyB21PE"
      },
      "source": [
        "Below is an example of how to query the SQLlite databse from this Jupyter notebook. Please note that SQLlite might have a slightly different syntax from the SQL you normally use. Please do not edit the below cell:"
      ]
    },
    {
      "cell_type": "code",
      "metadata": {
        "colab": {
          "base_uri": "https://localhost:8080/",
          "height": 79
        },
        "id": "gOnJTkje21PF",
        "outputId": "4b86df46-3540-4c66-f1eb-24e576d6c5e2"
      },
      "source": [
        "sqlite_query = \"\"\"\n",
        "SELECT COUNT(*) \n",
        "from policy_table \n",
        "\"\"\"\n",
        "\n",
        "pd.read_sql(sqlite_query, conn)"
      ],
      "execution_count": 3,
      "outputs": [
        {
          "output_type": "execute_result",
          "data": {
            "text/html": [
              "<div>\n",
              "<style scoped>\n",
              "    .dataframe tbody tr th:only-of-type {\n",
              "        vertical-align: middle;\n",
              "    }\n",
              "\n",
              "    .dataframe tbody tr th {\n",
              "        vertical-align: top;\n",
              "    }\n",
              "\n",
              "    .dataframe thead th {\n",
              "        text-align: right;\n",
              "    }\n",
              "</style>\n",
              "<table border=\"1\" class=\"dataframe\">\n",
              "  <thead>\n",
              "    <tr style=\"text-align: right;\">\n",
              "      <th></th>\n",
              "      <th>COUNT(*)</th>\n",
              "    </tr>\n",
              "  </thead>\n",
              "  <tbody>\n",
              "    <tr>\n",
              "      <th>0</th>\n",
              "      <td>1635</td>\n",
              "    </tr>\n",
              "  </tbody>\n",
              "</table>\n",
              "</div>"
            ],
            "text/plain": [
              "   COUNT(*)\n",
              "0      1635"
            ]
          },
          "metadata": {
            "tags": []
          },
          "execution_count": 3
        }
      ]
    },
    {
      "cell_type": "markdown",
      "metadata": {
        "run_control": {
          "marked": true
        },
        "id": "quPu4H2L21PI"
      },
      "source": [
        "The first table \"Customer_Table\" contains personal information about the customers. Please do not edit the below cell:"
      ]
    },
    {
      "cell_type": "code",
      "metadata": {
        "run_control": {
          "marked": true
        },
        "colab": {
          "base_uri": "https://localhost:8080/",
          "height": 202
        },
        "id": "Xu56EVqV21PJ",
        "outputId": "e2c863a7-f433-407f-b05e-46c1a519c616"
      },
      "source": [
        "sqlite_query = \"\"\"\n",
        "SELECT * \n",
        "from Customer_Table \n",
        "limit 5\n",
        "\"\"\"\n",
        "\n",
        "pd.read_sql(sqlite_query, conn)"
      ],
      "execution_count": 4,
      "outputs": [
        {
          "output_type": "execute_result",
          "data": {
            "text/html": [
              "<div>\n",
              "<style scoped>\n",
              "    .dataframe tbody tr th:only-of-type {\n",
              "        vertical-align: middle;\n",
              "    }\n",
              "\n",
              "    .dataframe tbody tr th {\n",
              "        vertical-align: top;\n",
              "    }\n",
              "\n",
              "    .dataframe thead th {\n",
              "        text-align: right;\n",
              "    }\n",
              "</style>\n",
              "<table border=\"1\" class=\"dataframe\">\n",
              "  <thead>\n",
              "    <tr style=\"text-align: right;\">\n",
              "      <th></th>\n",
              "      <th>index</th>\n",
              "      <th>Customer ID</th>\n",
              "      <th>Email</th>\n",
              "      <th>Gender</th>\n",
              "      <th>Age</th>\n",
              "      <th>Postcode</th>\n",
              "    </tr>\n",
              "  </thead>\n",
              "  <tbody>\n",
              "    <tr>\n",
              "      <th>0</th>\n",
              "      <td>0</td>\n",
              "      <td>CO183683</td>\n",
              "      <td>NLUPPITT14@PARALLELS.COM</td>\n",
              "      <td>Male</td>\n",
              "      <td>90</td>\n",
              "      <td>None</td>\n",
              "    </tr>\n",
              "    <tr>\n",
              "      <th>1</th>\n",
              "      <td>1</td>\n",
              "      <td>CO314757</td>\n",
              "      <td>None</td>\n",
              "      <td>Female</td>\n",
              "      <td>90</td>\n",
              "      <td>None</td>\n",
              "    </tr>\n",
              "    <tr>\n",
              "      <th>2</th>\n",
              "      <td>2</td>\n",
              "      <td>CO720602</td>\n",
              "      <td>None</td>\n",
              "      <td>Female</td>\n",
              "      <td>90</td>\n",
              "      <td>None</td>\n",
              "    </tr>\n",
              "    <tr>\n",
              "      <th>3</th>\n",
              "      <td>3</td>\n",
              "      <td>CO34804</td>\n",
              "      <td>None</td>\n",
              "      <td>Female</td>\n",
              "      <td>90</td>\n",
              "      <td>1495-701</td>\n",
              "    </tr>\n",
              "    <tr>\n",
              "      <th>4</th>\n",
              "      <td>4</td>\n",
              "      <td>CO474411</td>\n",
              "      <td>None</td>\n",
              "      <td>Male</td>\n",
              "      <td>90</td>\n",
              "      <td>301288</td>\n",
              "    </tr>\n",
              "  </tbody>\n",
              "</table>\n",
              "</div>"
            ],
            "text/plain": [
              "   index Customer ID                     Email  Gender  Age  Postcode\n",
              "0      0    CO183683  NLUPPITT14@PARALLELS.COM    Male   90      None\n",
              "1      1    CO314757                      None  Female   90      None\n",
              "2      2    CO720602                      None  Female   90      None\n",
              "3      3     CO34804                      None  Female   90  1495-701\n",
              "4      4    CO474411                      None    Male   90    301288"
            ]
          },
          "metadata": {
            "tags": []
          },
          "execution_count": 4
        }
      ]
    },
    {
      "cell_type": "markdown",
      "metadata": {
        "id": "XFt8YF7R21PK"
      },
      "source": [
        "The second table \"Policy_Table\" contains data relating to customer policies. The policy value is the current value of the policy. Please do not edit the below cell:"
      ]
    },
    {
      "cell_type": "code",
      "metadata": {
        "colab": {
          "base_uri": "https://localhost:8080/",
          "height": 306
        },
        "id": "EPSBOWME21PN",
        "outputId": "40d913be-9841-47f9-a5ee-96b6f1b1c6e8"
      },
      "source": [
        "sqlite_query = \"\"\"\n",
        "SELECT * \n",
        "from Policy_Table \n",
        "limit 5\n",
        "\"\"\"\n",
        "\n",
        "pd.read_sql(sqlite_query, conn)"
      ],
      "execution_count": 5,
      "outputs": [
        {
          "output_type": "execute_result",
          "data": {
            "text/html": [
              "<div>\n",
              "<style scoped>\n",
              "    .dataframe tbody tr th:only-of-type {\n",
              "        vertical-align: middle;\n",
              "    }\n",
              "\n",
              "    .dataframe tbody tr th {\n",
              "        vertical-align: top;\n",
              "    }\n",
              "\n",
              "    .dataframe thead th {\n",
              "        text-align: right;\n",
              "    }\n",
              "</style>\n",
              "<table border=\"1\" class=\"dataframe\">\n",
              "  <thead>\n",
              "    <tr style=\"text-align: right;\">\n",
              "      <th></th>\n",
              "      <th>index</th>\n",
              "      <th>Policy Number</th>\n",
              "      <th>Customer ID</th>\n",
              "      <th>Product Category</th>\n",
              "      <th>Product Name</th>\n",
              "      <th>Policy Value</th>\n",
              "      <th>Policy Start Date</th>\n",
              "    </tr>\n",
              "  </thead>\n",
              "  <tbody>\n",
              "    <tr>\n",
              "      <th>0</th>\n",
              "      <td>0</td>\n",
              "      <td>RET100072</td>\n",
              "      <td>CO276506</td>\n",
              "      <td>RETIREMENT</td>\n",
              "      <td>RETIREMENT ACCOUNT</td>\n",
              "      <td>270033.0</td>\n",
              "      <td>2016-01-02 00:00:00</td>\n",
              "    </tr>\n",
              "    <tr>\n",
              "      <th>1</th>\n",
              "      <td>1</td>\n",
              "      <td>RET100931</td>\n",
              "      <td>CO831289</td>\n",
              "      <td>RETIREMENT</td>\n",
              "      <td>RETIREMENT ACCOUNT</td>\n",
              "      <td>26394.0</td>\n",
              "      <td>2016-01-04 00:00:00</td>\n",
              "    </tr>\n",
              "    <tr>\n",
              "      <th>2</th>\n",
              "      <td>2</td>\n",
              "      <td>RET100682</td>\n",
              "      <td>CO784249</td>\n",
              "      <td>RETIREMENT</td>\n",
              "      <td>RETIREMENT ACCOUNT</td>\n",
              "      <td>773567.0</td>\n",
              "      <td>2016-01-04 00:00:00</td>\n",
              "    </tr>\n",
              "    <tr>\n",
              "      <th>3</th>\n",
              "      <td>3</td>\n",
              "      <td>RET100447</td>\n",
              "      <td>CO295533</td>\n",
              "      <td>RETIREMENT</td>\n",
              "      <td>RETIREMENT ACCOUNT</td>\n",
              "      <td>35512.0</td>\n",
              "      <td>2016-01-07 00:00:00</td>\n",
              "    </tr>\n",
              "    <tr>\n",
              "      <th>4</th>\n",
              "      <td>4</td>\n",
              "      <td>RET100390</td>\n",
              "      <td>CO901735</td>\n",
              "      <td>RETIREMENT</td>\n",
              "      <td>RETIREMENT ACCOUNT</td>\n",
              "      <td>767580.0</td>\n",
              "      <td>2016-01-08 00:00:00</td>\n",
              "    </tr>\n",
              "  </tbody>\n",
              "</table>\n",
              "</div>"
            ],
            "text/plain": [
              "   index Policy Number  ... Policy Value    Policy Start Date\n",
              "0      0     RET100072  ...     270033.0  2016-01-02 00:00:00\n",
              "1      1     RET100931  ...      26394.0  2016-01-04 00:00:00\n",
              "2      2     RET100682  ...     773567.0  2016-01-04 00:00:00\n",
              "3      3     RET100447  ...      35512.0  2016-01-07 00:00:00\n",
              "4      4     RET100390  ...     767580.0  2016-01-08 00:00:00\n",
              "\n",
              "[5 rows x 7 columns]"
            ]
          },
          "metadata": {
            "tags": []
          },
          "execution_count": 5
        }
      ]
    },
    {
      "cell_type": "markdown",
      "metadata": {
        "id": "yssiHLbU21PO"
      },
      "source": [
        "The final table \"Fund_Table\" contains historic data on the Policy Value (Policy_Value_Snapshot). The Policy_Value_Snapshot represents the value of the policy and the Date column is the date at which that value was recorded. The value may have changed overtime due to changes in the fund price or quanity of units the policy was invested in. Please do not edit the below cell:"
      ]
    },
    {
      "cell_type": "code",
      "metadata": {
        "colab": {
          "base_uri": "https://localhost:8080/",
          "height": 306
        },
        "id": "msXJX_Uv21PP",
        "outputId": "8105d8d2-2a57-4845-b5c1-0a117a5b3eda"
      },
      "source": [
        "sqlite_query = \"\"\"\n",
        "SELECT \n",
        "*\n",
        "from Fund_Table\n",
        "limit 5\n",
        "\n",
        "\"\"\"\n",
        "\n",
        "pd.read_sql(sqlite_query, conn)"
      ],
      "execution_count": 6,
      "outputs": [
        {
          "output_type": "execute_result",
          "data": {
            "text/html": [
              "<div>\n",
              "<style scoped>\n",
              "    .dataframe tbody tr th:only-of-type {\n",
              "        vertical-align: middle;\n",
              "    }\n",
              "\n",
              "    .dataframe tbody tr th {\n",
              "        vertical-align: top;\n",
              "    }\n",
              "\n",
              "    .dataframe thead th {\n",
              "        text-align: right;\n",
              "    }\n",
              "</style>\n",
              "<table border=\"1\" class=\"dataframe\">\n",
              "  <thead>\n",
              "    <tr style=\"text-align: right;\">\n",
              "      <th></th>\n",
              "      <th>index</th>\n",
              "      <th>Policy Number</th>\n",
              "      <th>Customer ID</th>\n",
              "      <th>Date</th>\n",
              "      <th>Product Category</th>\n",
              "      <th>Product Name</th>\n",
              "      <th>Policy_Value_Snapshot</th>\n",
              "    </tr>\n",
              "  </thead>\n",
              "  <tbody>\n",
              "    <tr>\n",
              "      <th>0</th>\n",
              "      <td>0</td>\n",
              "      <td>ANN1221</td>\n",
              "      <td>CO408564</td>\n",
              "      <td>2009-10-31 00:00:00</td>\n",
              "      <td>ANNUITY</td>\n",
              "      <td>STANDARD ANNUITY</td>\n",
              "      <td>None</td>\n",
              "    </tr>\n",
              "    <tr>\n",
              "      <th>1</th>\n",
              "      <td>1</td>\n",
              "      <td>ANN1221</td>\n",
              "      <td>CO408564</td>\n",
              "      <td>2009-11-30 00:00:00</td>\n",
              "      <td>ANNUITY</td>\n",
              "      <td>STANDARD ANNUITY</td>\n",
              "      <td>None</td>\n",
              "    </tr>\n",
              "    <tr>\n",
              "      <th>2</th>\n",
              "      <td>2</td>\n",
              "      <td>ANN1221</td>\n",
              "      <td>CO408564</td>\n",
              "      <td>2009-12-31 00:00:00</td>\n",
              "      <td>ANNUITY</td>\n",
              "      <td>STANDARD ANNUITY</td>\n",
              "      <td>None</td>\n",
              "    </tr>\n",
              "    <tr>\n",
              "      <th>3</th>\n",
              "      <td>3</td>\n",
              "      <td>ANN1221</td>\n",
              "      <td>CO408564</td>\n",
              "      <td>2010-01-31 00:00:00</td>\n",
              "      <td>ANNUITY</td>\n",
              "      <td>STANDARD ANNUITY</td>\n",
              "      <td>None</td>\n",
              "    </tr>\n",
              "    <tr>\n",
              "      <th>4</th>\n",
              "      <td>4</td>\n",
              "      <td>ANN1221</td>\n",
              "      <td>CO408564</td>\n",
              "      <td>2010-02-28 00:00:00</td>\n",
              "      <td>ANNUITY</td>\n",
              "      <td>STANDARD ANNUITY</td>\n",
              "      <td>None</td>\n",
              "    </tr>\n",
              "  </tbody>\n",
              "</table>\n",
              "</div>"
            ],
            "text/plain": [
              "   index Policy Number  ...      Product Name Policy_Value_Snapshot\n",
              "0      0       ANN1221  ...  STANDARD ANNUITY                  None\n",
              "1      1       ANN1221  ...  STANDARD ANNUITY                  None\n",
              "2      2       ANN1221  ...  STANDARD ANNUITY                  None\n",
              "3      3       ANN1221  ...  STANDARD ANNUITY                  None\n",
              "4      4       ANN1221  ...  STANDARD ANNUITY                  None\n",
              "\n",
              "[5 rows x 7 columns]"
            ]
          },
          "metadata": {
            "tags": []
          },
          "execution_count": 6
        }
      ]
    },
    {
      "cell_type": "markdown",
      "metadata": {
        "id": "Fy4PhwwY21PQ"
      },
      "source": [
        "If a question requires additional explanation for your answer, please add additional cells below the code. "
      ]
    },
    {
      "cell_type": "markdown",
      "metadata": {
        "run_control": {
          "marked": true
        },
        "id": "LtHrnKvA21PQ"
      },
      "source": [
        "## Q1: What is the current average policy value split by each product name? "
      ]
    },
    {
      "cell_type": "code",
      "metadata": {
        "run_control": {
          "marked": true
        },
        "colab": {
          "base_uri": "https://localhost:8080/",
          "height": 325
        },
        "id": "VOqLZtWF21PR",
        "outputId": "15e63185-bef1-499a-8497-fa3bc6c178ce"
      },
      "source": [
        "sqlite_query = \"\"\"\n",
        "-- Get Current Policy Date\n",
        "WITH Policy_Current_Date AS (SELECT\n",
        "[Policy Number]\n",
        ", max([Date]) AS [Current Date]\n",
        "FROM [Fund_Table]\n",
        "GROUP BY [Policy Number]\n",
        ")\n",
        "\n",
        "SELECT\n",
        "f.[Product Name]\n",
        ", ROUND(AVG(IFNULL(p.[Policy Value], 0)),2) AS [Current Average Policy Value]\n",
        "FROM [Fund_Table] f\n",
        "INNER JOIN [Policy_Table] p\n",
        "ON p.[Policy Number] = f.[Policy Number]\n",
        "INNER JOIN Policy_Current_Date c\n",
        "ON c.[Current Date] = f.[Date]\n",
        "GROUP BY f.[Product Name]\n",
        "ORDER BY f.[Product Name];\n",
        "\"\"\"\n",
        "\n",
        "pd.read_sql(sqlite_query, conn)"
      ],
      "execution_count": 7,
      "outputs": [
        {
          "output_type": "execute_result",
          "data": {
            "text/html": [
              "<div>\n",
              "<style scoped>\n",
              "    .dataframe tbody tr th:only-of-type {\n",
              "        vertical-align: middle;\n",
              "    }\n",
              "\n",
              "    .dataframe tbody tr th {\n",
              "        vertical-align: top;\n",
              "    }\n",
              "\n",
              "    .dataframe thead th {\n",
              "        text-align: right;\n",
              "    }\n",
              "</style>\n",
              "<table border=\"1\" class=\"dataframe\">\n",
              "  <thead>\n",
              "    <tr style=\"text-align: right;\">\n",
              "      <th></th>\n",
              "      <th>Product Name</th>\n",
              "      <th>Current Average Policy Value</th>\n",
              "    </tr>\n",
              "  </thead>\n",
              "  <tbody>\n",
              "    <tr>\n",
              "      <th>0</th>\n",
              "      <td>CORPORATE MEMBERSHIP</td>\n",
              "      <td>5697.29</td>\n",
              "    </tr>\n",
              "    <tr>\n",
              "      <th>1</th>\n",
              "      <td>FOCUSSED ISA</td>\n",
              "      <td>5746.34</td>\n",
              "    </tr>\n",
              "    <tr>\n",
              "      <th>2</th>\n",
              "      <td>NHS PENSION</td>\n",
              "      <td>5241.50</td>\n",
              "    </tr>\n",
              "    <tr>\n",
              "      <th>3</th>\n",
              "      <td>PRU BOND</td>\n",
              "      <td>4516.39</td>\n",
              "    </tr>\n",
              "    <tr>\n",
              "      <th>4</th>\n",
              "      <td>PRUDENTIAL INVESTMENT PLAN</td>\n",
              "      <td>5084.52</td>\n",
              "    </tr>\n",
              "    <tr>\n",
              "      <th>5</th>\n",
              "      <td>PRUDENTIAL ISA</td>\n",
              "      <td>5161.14</td>\n",
              "    </tr>\n",
              "    <tr>\n",
              "      <th>6</th>\n",
              "      <td>RETIREMENT ACCOUNT</td>\n",
              "      <td>504964.96</td>\n",
              "    </tr>\n",
              "    <tr>\n",
              "      <th>7</th>\n",
              "      <td>SIPP</td>\n",
              "      <td>5335.84</td>\n",
              "    </tr>\n",
              "    <tr>\n",
              "      <th>8</th>\n",
              "      <td>STANDARD ANNUITY</td>\n",
              "      <td>0.00</td>\n",
              "    </tr>\n",
              "  </tbody>\n",
              "</table>\n",
              "</div>"
            ],
            "text/plain": [
              "                 Product Name  Current Average Policy Value\n",
              "0        CORPORATE MEMBERSHIP                       5697.29\n",
              "1                FOCUSSED ISA                       5746.34\n",
              "2                 NHS PENSION                       5241.50\n",
              "3                    PRU BOND                       4516.39\n",
              "4  PRUDENTIAL INVESTMENT PLAN                       5084.52\n",
              "5              PRUDENTIAL ISA                       5161.14\n",
              "6          RETIREMENT ACCOUNT                     504964.96\n",
              "7                        SIPP                       5335.84\n",
              "8            STANDARD ANNUITY                          0.00"
            ]
          },
          "metadata": {
            "tags": []
          },
          "execution_count": 7
        }
      ]
    },
    {
      "cell_type": "markdown",
      "metadata": {
        "run_control": {
          "marked": true
        },
        "id": "uwJNiOHA21PR"
      },
      "source": [
        "## Q2: How many customers opened a new policy in Q1 2017 who already had an existing pension product? "
      ]
    },
    {
      "cell_type": "code",
      "metadata": {
        "run_control": {
          "marked": true
        },
        "scrolled": true,
        "colab": {
          "base_uri": "https://localhost:8080/",
          "height": 79
        },
        "id": "3Goc0wz121PR",
        "outputId": "654e9363-d48f-4982-a7f6-abf279dd5c89"
      },
      "source": [
        "# Assuming required customers can have any category of policies opened in the Quarter-1 of Calendar Year 2017\n",
        "sqlite_query = \"\"\"\n",
        "-- Get Customers with existing Pension Product before Quarter-1 of Calendar Year 2017\n",
        "WITH Existing_Pension_Customers AS (\n",
        "SELECT DISTINCT\n",
        "[Customer ID]\n",
        "FROM [Policy_Table]\n",
        "WHERE UPPER([Product Category]) = \"PENSION\"\n",
        "AND [Policy Start Date] < \"2017-01-01 00:00:00\"\n",
        "ORDER BY [Policy Start Date] DESC\n",
        ")\n",
        "\n",
        "SELECT\n",
        "COUNT(DISTINCT p.[Customer ID]) AS [Existing Pension Customers]\n",
        "FROM [Policy_Table] p\n",
        "INNER JOIN [Existing_Pension_Customers] e\n",
        "ON e.[Customer ID] = p.[Customer ID]\n",
        "AND p.[Policy Start Date] BETWEEN \"2017-01-01 00:00:00\" AND \"2017-04-01 00:00:00\";\n",
        "\"\"\"\n",
        "pd.read_sql(sqlite_query, conn)"
      ],
      "execution_count": 8,
      "outputs": [
        {
          "output_type": "execute_result",
          "data": {
            "text/html": [
              "<div>\n",
              "<style scoped>\n",
              "    .dataframe tbody tr th:only-of-type {\n",
              "        vertical-align: middle;\n",
              "    }\n",
              "\n",
              "    .dataframe tbody tr th {\n",
              "        vertical-align: top;\n",
              "    }\n",
              "\n",
              "    .dataframe thead th {\n",
              "        text-align: right;\n",
              "    }\n",
              "</style>\n",
              "<table border=\"1\" class=\"dataframe\">\n",
              "  <thead>\n",
              "    <tr style=\"text-align: right;\">\n",
              "      <th></th>\n",
              "      <th>Existing Pension Customers</th>\n",
              "    </tr>\n",
              "  </thead>\n",
              "  <tbody>\n",
              "    <tr>\n",
              "      <th>0</th>\n",
              "      <td>35</td>\n",
              "    </tr>\n",
              "  </tbody>\n",
              "</table>\n",
              "</div>"
            ],
            "text/plain": [
              "   Existing Pension Customers\n",
              "0                          35"
            ]
          },
          "metadata": {
            "tags": []
          },
          "execution_count": 8
        }
      ]
    },
    {
      "cell_type": "markdown",
      "metadata": {
        "run_control": {
          "marked": true
        },
        "id": "pCKG8ykB21PS"
      },
      "source": [
        "## Q3: What was the customer ID that had the biggest difference in policy value between its earliest and latest date (for any product) ?"
      ]
    },
    {
      "cell_type": "code",
      "metadata": {
        "run_control": {
          "marked": true
        },
        "colab": {
          "base_uri": "https://localhost:8080/",
          "height": 79
        },
        "id": "0bQii3on21PT",
        "outputId": "3b1d678a-a269-41e2-cb79-435bdef039cc"
      },
      "source": [
        "# Assuming the difference could be either positive or negative, hence taking the magnitude in consideration\n",
        "sqlite_query = \"\"\"\n",
        "-- Get Policy Start Date and Latest Date\n",
        "WITH [Policy_Date_Bracket] AS (\n",
        "SELECT\n",
        "[Policy Number]\n",
        ", MIN([Date]) AS [Policy Start Date]\n",
        ", MAX([Date]) AS [Policy Latest Date]\n",
        "FROM [Fund_Table] f\n",
        "GROUP BY [Policy Number]\n",
        ")\n",
        "-- Get Policy Value at Start Date\n",
        ", [Policy_Start_Value] AS (\n",
        "SELECT\n",
        "f.[Policy Number]\n",
        ", IFNULL(f.[Policy_Value_Snapshot],0) AS [Policy Value]\n",
        "FROM [Fund_Table] f\n",
        "INNER JOIN [Policy_Date_Bracket] d\n",
        "ON d.[Policy Number]= f.[Policy Number]\n",
        "AND d.[Policy Start Date] = f.[Date]\n",
        "INNER JOIN [Policy_Table] p\n",
        "ON p.[Policy Number] = f.[Policy Number]\n",
        ")\n",
        "-- Get Policy Value at Latest Date\n",
        ", [Policy_Latest_Value] AS (\n",
        "SELECT\n",
        "f.[Policy Number]\n",
        ", IFNULL(f.[Policy_Value_Snapshot],0) AS [Policy Value]\n",
        "FROM [Fund_Table] f\n",
        "INNER JOIN [Policy_Date_Bracket] d\n",
        "ON d.[Policy Number]= f.[Policy Number]\n",
        "AND d.[Policy Latest Date] = f.[Date]\n",
        "INNER JOIN [Policy_Table] p\n",
        "ON p.[Policy Number] = f.[Policy Number]\n",
        ")\n",
        "-- Get Policy Value Difference\n",
        "SELECT\n",
        "p.[Customer ID]\n",
        ", ROUND(ABS(l.[Policy Value] - s.[Policy Value]),2) AS [Policy Value Difference]\n",
        "FROM [Policy_Table] p\n",
        "INNER JOIN [Policy_Latest_Value] l\n",
        "ON l.[Policy Number] = p.[Policy Number] \n",
        "INNER JOIN [Policy_Start_Value] s\n",
        "ON s.[Policy Number] = p.[Policy Number]\n",
        "ORDER BY 2 DESC\n",
        "LIMIT 1;\n",
        "\"\"\"\n",
        "\n",
        "pd.read_sql(sqlite_query, conn)"
      ],
      "execution_count": 9,
      "outputs": [
        {
          "output_type": "execute_result",
          "data": {
            "text/html": [
              "<div>\n",
              "<style scoped>\n",
              "    .dataframe tbody tr th:only-of-type {\n",
              "        vertical-align: middle;\n",
              "    }\n",
              "\n",
              "    .dataframe tbody tr th {\n",
              "        vertical-align: top;\n",
              "    }\n",
              "\n",
              "    .dataframe thead th {\n",
              "        text-align: right;\n",
              "    }\n",
              "</style>\n",
              "<table border=\"1\" class=\"dataframe\">\n",
              "  <thead>\n",
              "    <tr style=\"text-align: right;\">\n",
              "      <th></th>\n",
              "      <th>Customer ID</th>\n",
              "      <th>Policy Value Difference</th>\n",
              "    </tr>\n",
              "  </thead>\n",
              "  <tbody>\n",
              "    <tr>\n",
              "      <th>0</th>\n",
              "      <td>CO401070</td>\n",
              "      <td>943283.5</td>\n",
              "    </tr>\n",
              "  </tbody>\n",
              "</table>\n",
              "</div>"
            ],
            "text/plain": [
              "  Customer ID  Policy Value Difference\n",
              "0    CO401070                 943283.5"
            ]
          },
          "metadata": {
            "tags": []
          },
          "execution_count": 9
        }
      ]
    },
    {
      "cell_type": "markdown",
      "metadata": {
        "run_control": {
          "marked": true
        },
        "id": "WwnKytvA21PT"
      },
      "source": [
        "# Python Test\n",
        "\n",
        "Same data, but now let's have some fun in python. Please do not use SQL for this part of the exercise. \n",
        "\n",
        "Feel free to add more cells of code or text"
      ]
    },
    {
      "cell_type": "code",
      "metadata": {
        "run_control": {
          "marked": true
        },
        "id": "6HU-_07621PU"
      },
      "source": [
        "Customer_Table = pd.read_sql('SELECT * FROM Customer_Table', conn)\n",
        "Policy_Table = pd.read_sql('SELECT * FROM Policy_Table', conn)\n",
        "Fund_Table = pd.read_sql('SELECT * FROM Fund_Table', conn)"
      ],
      "execution_count": 10,
      "outputs": []
    },
    {
      "cell_type": "markdown",
      "metadata": {
        "run_control": {
          "marked": true
        },
        "id": "TieMcokZ21PV"
      },
      "source": [
        "## Q4: Produce a list of customers which have an invalid email address. What do you notice about these customers? ##\n",
        "\n",
        "Feel free to use any packages of your choice"
      ]
    },
    {
      "cell_type": "code",
      "metadata": {
        "run_control": {
          "marked": true
        },
        "id": "Uk4LuMUw21PV"
      },
      "source": [
        "#Insert your answer below: \r\n",
        "# import supporting modules\r\n",
        "import re\r\n",
        "import matplotlib.pyplot as plt\r\n",
        "import seaborn as sns\r\n",
        "\r\n",
        "# Regular expression for validating an Email \r\n",
        "#regex = '^[a-z0-9]+[\\._]?[a-z0-9]+[@]\\w+[.]\\w{2,3}$'\r\n",
        "regex = '^[a-z0-9]+[\\._]?[a-z0-9]+[@]\\w+[.]\\w+$'"
      ],
      "execution_count": 11,
      "outputs": []
    },
    {
      "cell_type": "code",
      "metadata": {
        "id": "nTW9-qvehvQ5"
      },
      "source": [
        "# Define a function for validating an Email\r\n",
        "def check(email):\r\n",
        "    # Validate provided email through defined regex\r\n",
        "    if(re.search(regex, email)):\r\n",
        "        flag = \"Y\"\r\n",
        "    else:\r\n",
        "        flag = \"N\"\r\n",
        "    return flag"
      ],
      "execution_count": 12,
      "outputs": []
    },
    {
      "cell_type": "code",
      "metadata": {
        "id": "bo2UkkIrhsdk"
      },
      "source": [
        "# Create a DataFrame from the base Customer Table DataFrame\r\n",
        "Customer_Email_Table = Customer_Table.fillna(\"None\")\r\n",
        "Customer_Email_Table[\"IsValidEmail\"] = \"\"\r\n",
        "for ind in Customer_Email_Table.index:\r\n",
        "    # Check for each customer whether the email provided is valid or not\r\n",
        "    check_valid_flag = check(Customer_Email_Table[\"Email\"][ind].lower())\r\n",
        "    # Update the IsValidEmail flag\r\n",
        "    Customer_Email_Table.loc[ind,\"IsValidEmail\"] = check_valid_flag"
      ],
      "execution_count": 13,
      "outputs": []
    },
    {
      "cell_type": "code",
      "metadata": {
        "colab": {
          "base_uri": "https://localhost:8080/",
          "height": 1000
        },
        "id": "Fo5qPVHO76rG",
        "outputId": "9e9eee25-18df-4251-c783-23e9ad0582a3"
      },
      "source": [
        "# Creating the Merged Dataset for Exploratory Analysis\r\n",
        "\r\n",
        "# Dropping unnecessary columns from original Datasets\r\n",
        "Customer_Email_Table_1 = Customer_Email_Table.drop([\"index\"],\r\n",
        "                                                   axis=1)\r\n",
        "Policy_Table_1 = Policy_Table.drop([\"index\"],\r\n",
        "                                   axis=1)\r\n",
        "Fund_Table_1 = Fund_Table.drop([\"index\", \"Product Category\", \"Product Name\", \"Customer ID\"],\r\n",
        "                               axis=1)\r\n",
        "\r\n",
        "# MErging Datasets\r\n",
        "df_merge_temp_1 = pd.merge(Customer_Email_Table_1, Policy_Table_1,\r\n",
        "                         on=\"Customer ID\")\r\n",
        "df_merge_temp_2 = pd.merge(df_merge_temp_1, Fund_Table_1,\r\n",
        "                          on=\"Policy Number\")\r\n",
        "\r\n",
        "# Filling Nulls\r\n",
        "df_merge_nonull = df_merge_temp_2.fillna(0)\r\n",
        "\r\n",
        "# Creating Age Brackets\r\n",
        "bins = [18, 30, 40, 50, 60, 70, 120]\r\n",
        "labels = ['18-29', '30-39', '40-49', '50-59', '60-69', '70+']\r\n",
        "df_merge_nonull[\"Age Bracket\"] = \"\"\r\n",
        "df_merge_nonull[\"Age Bracket\"] = pd.cut(df_merge_nonull.Age, bins, labels = labels, include_lowest = True)\r\n",
        "\r\n",
        "# Formatting the Final Merged Dataset\r\n",
        "df_merge_final = df_merge_nonull\r\n",
        "df_merge_final['Year'] = pd.to_datetime(df_merge_final['Date']).dt.to_period('Y')\r\n",
        "df_merge_final['Year_Month'] = pd.to_datetime(df_merge_final['Date']).dt.to_period('M')\r\n",
        "df_merge_final = df_merge_final.sort_values(by = [\"Date\", \"Policy Number\", \"Customer ID\", \"Product Category\"])\r\n",
        "\r\n",
        "# Describing the Formatted Dataset\r\n",
        "display(df_merge_final.head(5))\r\n",
        "df_merge_final.info()\r\n",
        "df_merge_final.describe(include=\"all\")"
      ],
      "execution_count": 14,
      "outputs": [
        {
          "output_type": "display_data",
          "data": {
            "text/html": [
              "<div>\n",
              "<style scoped>\n",
              "    .dataframe tbody tr th:only-of-type {\n",
              "        vertical-align: middle;\n",
              "    }\n",
              "\n",
              "    .dataframe tbody tr th {\n",
              "        vertical-align: top;\n",
              "    }\n",
              "\n",
              "    .dataframe thead th {\n",
              "        text-align: right;\n",
              "    }\n",
              "</style>\n",
              "<table border=\"1\" class=\"dataframe\">\n",
              "  <thead>\n",
              "    <tr style=\"text-align: right;\">\n",
              "      <th></th>\n",
              "      <th>Customer ID</th>\n",
              "      <th>Email</th>\n",
              "      <th>Gender</th>\n",
              "      <th>Age</th>\n",
              "      <th>Postcode</th>\n",
              "      <th>IsValidEmail</th>\n",
              "      <th>Policy Number</th>\n",
              "      <th>Product Category</th>\n",
              "      <th>Product Name</th>\n",
              "      <th>Policy Value</th>\n",
              "      <th>Policy Start Date</th>\n",
              "      <th>Date</th>\n",
              "      <th>Policy_Value_Snapshot</th>\n",
              "      <th>Age Bracket</th>\n",
              "      <th>Year</th>\n",
              "      <th>Year_Month</th>\n",
              "    </tr>\n",
              "  </thead>\n",
              "  <tbody>\n",
              "    <tr>\n",
              "      <th>30890</th>\n",
              "      <td>CO580314</td>\n",
              "      <td>OBUCKBERRY1E@LIST-MANAGE.COM</td>\n",
              "      <td>Female</td>\n",
              "      <td>65</td>\n",
              "      <td>None</td>\n",
              "      <td>N</td>\n",
              "      <td>B1214</td>\n",
              "      <td>BOND</td>\n",
              "      <td>PRUDENTIAL INVESTMENT PLAN</td>\n",
              "      <td>2423.0</td>\n",
              "      <td>2009-07-08 00:00:00</td>\n",
              "      <td>2009-07-31 00:00:00</td>\n",
              "      <td>24623.260870</td>\n",
              "      <td>60-69</td>\n",
              "      <td>2009</td>\n",
              "      <td>2009-07</td>\n",
              "    </tr>\n",
              "    <tr>\n",
              "      <th>68500</th>\n",
              "      <td>CO928817</td>\n",
              "      <td>CDAGNANQG@AUDA.ORG.AU</td>\n",
              "      <td>Male</td>\n",
              "      <td>42</td>\n",
              "      <td>79400-000</td>\n",
              "      <td>N</td>\n",
              "      <td>B8171</td>\n",
              "      <td>BOND</td>\n",
              "      <td>PRU BOND</td>\n",
              "      <td>3409.0</td>\n",
              "      <td>2009-07-23 00:00:00</td>\n",
              "      <td>2009-07-31 00:00:00</td>\n",
              "      <td>24631.834783</td>\n",
              "      <td>40-49</td>\n",
              "      <td>2009</td>\n",
              "      <td>2009-07</td>\n",
              "    </tr>\n",
              "    <tr>\n",
              "      <th>67209</th>\n",
              "      <td>CO268915</td>\n",
              "      <td>LJAYNED0@OMNITURE.COM</td>\n",
              "      <td>Female</td>\n",
              "      <td>42</td>\n",
              "      <td>None</td>\n",
              "      <td>Y</td>\n",
              "      <td>B8448</td>\n",
              "      <td>BOND</td>\n",
              "      <td>PRUDENTIAL INVESTMENT PLAN</td>\n",
              "      <td>6981.0</td>\n",
              "      <td>2009-07-11 00:00:00</td>\n",
              "      <td>2009-07-31 00:00:00</td>\n",
              "      <td>24662.895652</td>\n",
              "      <td>40-49</td>\n",
              "      <td>2009</td>\n",
              "      <td>2009-07</td>\n",
              "    </tr>\n",
              "    <tr>\n",
              "      <th>51573</th>\n",
              "      <td>CO322312</td>\n",
              "      <td>EHAMMERSON1Y@NATIONALGEOGRAPHIC.COM</td>\n",
              "      <td>Male</td>\n",
              "      <td>56</td>\n",
              "      <td>4935-621</td>\n",
              "      <td>Y</td>\n",
              "      <td>ISA4209</td>\n",
              "      <td>ISA</td>\n",
              "      <td>FOCUSSED ISA</td>\n",
              "      <td>7131.0</td>\n",
              "      <td>2009-07-22 00:00:00</td>\n",
              "      <td>2009-07-31 00:00:00</td>\n",
              "      <td>24664.200000</td>\n",
              "      <td>50-59</td>\n",
              "      <td>2009</td>\n",
              "      <td>2009-07</td>\n",
              "    </tr>\n",
              "    <tr>\n",
              "      <th>22560</th>\n",
              "      <td>CO88500</td>\n",
              "      <td>TPLEASANCE1H@USNEWS.COM</td>\n",
              "      <td>Female</td>\n",
              "      <td>69</td>\n",
              "      <td>None</td>\n",
              "      <td>Y</td>\n",
              "      <td>ISA6414</td>\n",
              "      <td>ISA</td>\n",
              "      <td>PRUDENTIAL ISA</td>\n",
              "      <td>5058.0</td>\n",
              "      <td>2009-07-14 00:00:00</td>\n",
              "      <td>2009-07-31 00:00:00</td>\n",
              "      <td>24646.173913</td>\n",
              "      <td>60-69</td>\n",
              "      <td>2009</td>\n",
              "      <td>2009-07</td>\n",
              "    </tr>\n",
              "  </tbody>\n",
              "</table>\n",
              "</div>"
            ],
            "text/plain": [
              "      Customer ID                                Email  ...  Year  Year_Month\n",
              "30890    CO580314         OBUCKBERRY1E@LIST-MANAGE.COM  ...  2009     2009-07\n",
              "68500    CO928817                CDAGNANQG@AUDA.ORG.AU  ...  2009     2009-07\n",
              "67209    CO268915                LJAYNED0@OMNITURE.COM  ...  2009     2009-07\n",
              "51573    CO322312  EHAMMERSON1Y@NATIONALGEOGRAPHIC.COM  ...  2009     2009-07\n",
              "22560     CO88500              TPLEASANCE1H@USNEWS.COM  ...  2009     2009-07\n",
              "\n",
              "[5 rows x 16 columns]"
            ]
          },
          "metadata": {
            "tags": []
          }
        },
        {
          "output_type": "stream",
          "text": [
            "<class 'pandas.core.frame.DataFrame'>\n",
            "Int64Index: 72121 entries, 30890 to 32927\n",
            "Data columns (total 16 columns):\n",
            " #   Column                 Non-Null Count  Dtype        \n",
            "---  ------                 --------------  -----        \n",
            " 0   Customer ID            72121 non-null  object       \n",
            " 1   Email                  72121 non-null  object       \n",
            " 2   Gender                 72121 non-null  object       \n",
            " 3   Age                    72121 non-null  int64        \n",
            " 4   Postcode               72121 non-null  object       \n",
            " 5   IsValidEmail           72121 non-null  object       \n",
            " 6   Policy Number          72121 non-null  object       \n",
            " 7   Product Category       72121 non-null  object       \n",
            " 8   Product Name           72121 non-null  object       \n",
            " 9   Policy Value           72121 non-null  float64      \n",
            " 10  Policy Start Date      72121 non-null  object       \n",
            " 11  Date                   72121 non-null  object       \n",
            " 12  Policy_Value_Snapshot  72121 non-null  float64      \n",
            " 13  Age Bracket            72121 non-null  category     \n",
            " 14  Year                   72121 non-null  period[A-DEC]\n",
            " 15  Year_Month             72121 non-null  period[M]    \n",
            "dtypes: category(1), float64(2), int64(1), object(10), period[A-DEC](1), period[M](1)\n",
            "memory usage: 8.9+ MB\n"
          ],
          "name": "stdout"
        },
        {
          "output_type": "execute_result",
          "data": {
            "text/html": [
              "<div>\n",
              "<style scoped>\n",
              "    .dataframe tbody tr th:only-of-type {\n",
              "        vertical-align: middle;\n",
              "    }\n",
              "\n",
              "    .dataframe tbody tr th {\n",
              "        vertical-align: top;\n",
              "    }\n",
              "\n",
              "    .dataframe thead th {\n",
              "        text-align: right;\n",
              "    }\n",
              "</style>\n",
              "<table border=\"1\" class=\"dataframe\">\n",
              "  <thead>\n",
              "    <tr style=\"text-align: right;\">\n",
              "      <th></th>\n",
              "      <th>Customer ID</th>\n",
              "      <th>Email</th>\n",
              "      <th>Gender</th>\n",
              "      <th>Age</th>\n",
              "      <th>Postcode</th>\n",
              "      <th>IsValidEmail</th>\n",
              "      <th>Policy Number</th>\n",
              "      <th>Product Category</th>\n",
              "      <th>Product Name</th>\n",
              "      <th>Policy Value</th>\n",
              "      <th>Policy Start Date</th>\n",
              "      <th>Date</th>\n",
              "      <th>Policy_Value_Snapshot</th>\n",
              "      <th>Age Bracket</th>\n",
              "      <th>Year</th>\n",
              "      <th>Year_Month</th>\n",
              "    </tr>\n",
              "  </thead>\n",
              "  <tbody>\n",
              "    <tr>\n",
              "      <th>count</th>\n",
              "      <td>72121</td>\n",
              "      <td>72121</td>\n",
              "      <td>72121</td>\n",
              "      <td>72121.000000</td>\n",
              "      <td>72121</td>\n",
              "      <td>72121</td>\n",
              "      <td>72121</td>\n",
              "      <td>72121</td>\n",
              "      <td>72121</td>\n",
              "      <td>72121.000000</td>\n",
              "      <td>72121</td>\n",
              "      <td>72121</td>\n",
              "      <td>72121.000000</td>\n",
              "      <td>72121</td>\n",
              "      <td>72121</td>\n",
              "      <td>72121</td>\n",
              "    </tr>\n",
              "    <tr>\n",
              "      <th>unique</th>\n",
              "      <td>999</td>\n",
              "      <td>951</td>\n",
              "      <td>2</td>\n",
              "      <td>NaN</td>\n",
              "      <td>456</td>\n",
              "      <td>2</td>\n",
              "      <td>1635</td>\n",
              "      <td>5</td>\n",
              "      <td>9</td>\n",
              "      <td>NaN</td>\n",
              "      <td>1206</td>\n",
              "      <td>115</td>\n",
              "      <td>NaN</td>\n",
              "      <td>6</td>\n",
              "      <td>11</td>\n",
              "      <td>115</td>\n",
              "    </tr>\n",
              "    <tr>\n",
              "      <th>top</th>\n",
              "      <td>CO88500</td>\n",
              "      <td>None</td>\n",
              "      <td>Female</td>\n",
              "      <td>NaN</td>\n",
              "      <td>None</td>\n",
              "      <td>Y</td>\n",
              "      <td>PXC4966</td>\n",
              "      <td>RETIREMENT</td>\n",
              "      <td>RETIREMENT ACCOUNT</td>\n",
              "      <td>NaN</td>\n",
              "      <td>2009-08-03 00:00:00</td>\n",
              "      <td>2019-01-31 00:00:00</td>\n",
              "      <td>NaN</td>\n",
              "      <td>60-69</td>\n",
              "      <td>2018</td>\n",
              "      <td>2019-01</td>\n",
              "    </tr>\n",
              "    <tr>\n",
              "      <th>freq</th>\n",
              "      <td>152</td>\n",
              "      <td>3285</td>\n",
              "      <td>36132</td>\n",
              "      <td>NaN</td>\n",
              "      <td>39100</td>\n",
              "      <td>61900</td>\n",
              "      <td>115</td>\n",
              "      <td>19321</td>\n",
              "      <td>19321</td>\n",
              "      <td>NaN</td>\n",
              "      <td>456</td>\n",
              "      <td>1635</td>\n",
              "      <td>NaN</td>\n",
              "      <td>24524</td>\n",
              "      <td>17811</td>\n",
              "      <td>1635</td>\n",
              "    </tr>\n",
              "    <tr>\n",
              "      <th>mean</th>\n",
              "      <td>NaN</td>\n",
              "      <td>NaN</td>\n",
              "      <td>NaN</td>\n",
              "      <td>63.227423</td>\n",
              "      <td>NaN</td>\n",
              "      <td>NaN</td>\n",
              "      <td>NaN</td>\n",
              "      <td>NaN</td>\n",
              "      <td>NaN</td>\n",
              "      <td>136404.583464</td>\n",
              "      <td>NaN</td>\n",
              "      <td>NaN</td>\n",
              "      <td>82119.878641</td>\n",
              "      <td>NaN</td>\n",
              "      <td>NaN</td>\n",
              "      <td>NaN</td>\n",
              "    </tr>\n",
              "    <tr>\n",
              "      <th>std</th>\n",
              "      <td>NaN</td>\n",
              "      <td>NaN</td>\n",
              "      <td>NaN</td>\n",
              "      <td>13.823338</td>\n",
              "      <td>NaN</td>\n",
              "      <td>NaN</td>\n",
              "      <td>NaN</td>\n",
              "      <td>NaN</td>\n",
              "      <td>NaN</td>\n",
              "      <td>265423.541933</td>\n",
              "      <td>NaN</td>\n",
              "      <td>NaN</td>\n",
              "      <td>163308.754318</td>\n",
              "      <td>NaN</td>\n",
              "      <td>NaN</td>\n",
              "      <td>NaN</td>\n",
              "    </tr>\n",
              "    <tr>\n",
              "      <th>min</th>\n",
              "      <td>NaN</td>\n",
              "      <td>NaN</td>\n",
              "      <td>NaN</td>\n",
              "      <td>20.000000</td>\n",
              "      <td>NaN</td>\n",
              "      <td>NaN</td>\n",
              "      <td>NaN</td>\n",
              "      <td>NaN</td>\n",
              "      <td>NaN</td>\n",
              "      <td>0.000000</td>\n",
              "      <td>NaN</td>\n",
              "      <td>NaN</td>\n",
              "      <td>0.000000</td>\n",
              "      <td>NaN</td>\n",
              "      <td>NaN</td>\n",
              "      <td>NaN</td>\n",
              "    </tr>\n",
              "    <tr>\n",
              "      <th>25%</th>\n",
              "      <td>NaN</td>\n",
              "      <td>NaN</td>\n",
              "      <td>NaN</td>\n",
              "      <td>53.000000</td>\n",
              "      <td>NaN</td>\n",
              "      <td>NaN</td>\n",
              "      <td>NaN</td>\n",
              "      <td>NaN</td>\n",
              "      <td>NaN</td>\n",
              "      <td>2120.000000</td>\n",
              "      <td>NaN</td>\n",
              "      <td>NaN</td>\n",
              "      <td>9033.733333</td>\n",
              "      <td>NaN</td>\n",
              "      <td>NaN</td>\n",
              "      <td>NaN</td>\n",
              "    </tr>\n",
              "    <tr>\n",
              "      <th>50%</th>\n",
              "      <td>NaN</td>\n",
              "      <td>NaN</td>\n",
              "      <td>NaN</td>\n",
              "      <td>64.000000</td>\n",
              "      <td>NaN</td>\n",
              "      <td>NaN</td>\n",
              "      <td>NaN</td>\n",
              "      <td>NaN</td>\n",
              "      <td>NaN</td>\n",
              "      <td>6384.000000</td>\n",
              "      <td>NaN</td>\n",
              "      <td>NaN</td>\n",
              "      <td>17110.635514</td>\n",
              "      <td>NaN</td>\n",
              "      <td>NaN</td>\n",
              "      <td>NaN</td>\n",
              "    </tr>\n",
              "    <tr>\n",
              "      <th>75%</th>\n",
              "      <td>NaN</td>\n",
              "      <td>NaN</td>\n",
              "      <td>NaN</td>\n",
              "      <td>71.000000</td>\n",
              "      <td>NaN</td>\n",
              "      <td>NaN</td>\n",
              "      <td>NaN</td>\n",
              "      <td>NaN</td>\n",
              "      <td>NaN</td>\n",
              "      <td>58068.000000</td>\n",
              "      <td>NaN</td>\n",
              "      <td>NaN</td>\n",
              "      <td>33761.151515</td>\n",
              "      <td>NaN</td>\n",
              "      <td>NaN</td>\n",
              "      <td>NaN</td>\n",
              "    </tr>\n",
              "    <tr>\n",
              "      <th>max</th>\n",
              "      <td>NaN</td>\n",
              "      <td>NaN</td>\n",
              "      <td>NaN</td>\n",
              "      <td>90.000000</td>\n",
              "      <td>NaN</td>\n",
              "      <td>NaN</td>\n",
              "      <td>NaN</td>\n",
              "      <td>NaN</td>\n",
              "      <td>NaN</td>\n",
              "      <td>999674.000000</td>\n",
              "      <td>NaN</td>\n",
              "      <td>NaN</td>\n",
              "      <td>999674.000000</td>\n",
              "      <td>NaN</td>\n",
              "      <td>NaN</td>\n",
              "      <td>NaN</td>\n",
              "    </tr>\n",
              "  </tbody>\n",
              "</table>\n",
              "</div>"
            ],
            "text/plain": [
              "       Customer ID  Email  Gender  ...  Age Bracket   Year Year_Month\n",
              "count        72121  72121   72121  ...        72121  72121      72121\n",
              "unique         999    951       2  ...            6     11        115\n",
              "top        CO88500   None  Female  ...        60-69   2018    2019-01\n",
              "freq           152   3285   36132  ...        24524  17811       1635\n",
              "mean           NaN    NaN     NaN  ...          NaN    NaN        NaN\n",
              "std            NaN    NaN     NaN  ...          NaN    NaN        NaN\n",
              "min            NaN    NaN     NaN  ...          NaN    NaN        NaN\n",
              "25%            NaN    NaN     NaN  ...          NaN    NaN        NaN\n",
              "50%            NaN    NaN     NaN  ...          NaN    NaN        NaN\n",
              "75%            NaN    NaN     NaN  ...          NaN    NaN        NaN\n",
              "max            NaN    NaN     NaN  ...          NaN    NaN        NaN\n",
              "\n",
              "[11 rows x 16 columns]"
            ]
          },
          "metadata": {
            "tags": []
          },
          "execution_count": 14
        }
      ]
    },
    {
      "cell_type": "code",
      "metadata": {
        "id": "klMTkPvoseZJ"
      },
      "source": [
        "# Analyze the Customers with Valid Email Addresses\r\n",
        "df_merge_final_y = df_merge_final[df_merge_final[\"IsValidEmail\"] == \"Y\"]\r\n",
        "#df_merge_final_y.Email.unique()"
      ],
      "execution_count": 15,
      "outputs": []
    },
    {
      "cell_type": "code",
      "metadata": {
        "id": "70S9oE11r4eL"
      },
      "source": [
        "# Analyze the Customers with Invalid Email Addresses\r\n",
        "df_merge_final_n = df_merge_final[df_merge_final[\"IsValidEmail\"] == \"N\"]\r\n",
        "#df_merge_final_n.Email.unique()"
      ],
      "execution_count": 16,
      "outputs": []
    },
    {
      "cell_type": "code",
      "metadata": {
        "colab": {
          "base_uri": "https://localhost:8080/"
        },
        "id": "U2I3Hz8yuifi",
        "outputId": "b758d205-9354-400a-dc22-661d8f1ed0c2"
      },
      "source": [
        "# Finding Customers who requested for Follow up, None and Incorrect emails\r\n",
        "df_merge_final_followup = df_merge_final_n[df_merge_final[\"Email\"] == \"CUSTOMER TO FOLLOW UP\"]\r\n",
        "df_merge_final_none = df_merge_final_n[df_merge_final[\"Email\"] == \"None\"]\r\n",
        "df_merge_final_invalid = df_merge_final_n[(df_merge_final[\"Email\"] != \"CUSTOMER TO FOLLOW UP\") & (df_merge_final[\"Email\"] != \"None\")]"
      ],
      "execution_count": 17,
      "outputs": [
        {
          "output_type": "stream",
          "text": [
            "/usr/local/lib/python3.6/dist-packages/ipykernel_launcher.py:2: UserWarning: Boolean Series key will be reindexed to match DataFrame index.\n",
            "  \n",
            "/usr/local/lib/python3.6/dist-packages/ipykernel_launcher.py:3: UserWarning: Boolean Series key will be reindexed to match DataFrame index.\n",
            "  This is separate from the ipykernel package so we can avoid doing imports until\n",
            "/usr/local/lib/python3.6/dist-packages/ipykernel_launcher.py:4: UserWarning: Boolean Series key will be reindexed to match DataFrame index.\n",
            "  after removing the cwd from sys.path.\n"
          ],
          "name": "stderr"
        }
      ]
    },
    {
      "cell_type": "code",
      "metadata": {
        "colab": {
          "base_uri": "https://localhost:8080/",
          "height": 588
        },
        "id": "h23nuRRyi8rB",
        "outputId": "bb1f4153-9184-4140-bb38-8eb10c1df4d2"
      },
      "source": [
        "# Distribution of Customers by Gender\r\n",
        "fig = plt.figure(figsize = (30,15))\r\n",
        "ax1 = fig.add_subplot(2,3,1)\r\n",
        "sns.countplot(x=df_merge_final_n[\"Gender\"],\r\n",
        "              palette='Spectral',\r\n",
        "              ax=ax1).set(title='Customers with Invalid Email by Gender')\r\n",
        "\r\n",
        "# Distribution of Customers by Age\r\n",
        "ax2 = fig.add_subplot(2,3,2)\r\n",
        "sns.countplot(x=df_merge_final_n[\"Age Bracket\"],\r\n",
        "              palette='Spectral',\r\n",
        "              ax=ax2).set(title='Customers with Invalid Email by Gender')\r\n",
        "\r\n",
        "# Distribution of Customers by Product Category\r\n",
        "ax3 = fig.add_subplot(2,3,3)\r\n",
        "sns.countplot(x=df_merge_final_invalid[\"Product Category\"],\r\n",
        "              palette='Spectral',\r\n",
        "              ax=ax3).set(title='Customers with Invalid Email by Product Category')\r\n",
        "\r\n",
        "# Distribution of Customers by Follow Up\r\n",
        "ax4 = fig.add_subplot(2,3,4)\r\n",
        "sns.countplot(x=df_merge_final_followup[\"Product Category\"],\r\n",
        "              palette='Spectral',\r\n",
        "              ax=ax4).set(title='Customers with Follow up Email by Product Category')\r\n",
        "\r\n",
        "# Distribution of Customers by No Email\r\n",
        "ax5 = fig.add_subplot(2,3,5)\r\n",
        "sns.countplot(x=df_merge_final_none[\"Product Category\"],\r\n",
        "              palette='Spectral',\r\n",
        "              ax=ax5).set(title='Customers with No Email by Product Category')\r\n"
      ],
      "execution_count": 18,
      "outputs": [
        {
          "output_type": "execute_result",
          "data": {
            "text/plain": [
              "[Text(0.5, 1.0, 'Customers with No Email by Product Category')]"
            ]
          },
          "metadata": {
            "tags": []
          },
          "execution_count": 18
        },
        {
          "output_type": "display_data",
          "data": {
            "image/png": "[encoded data removed]",
            "text/plain": [
              "<Figure size 2160x1080 with 5 Axes>"
            ]
          },
          "metadata": {
            "tags": [],
            "needs_background": "light"
          }
        }
      ]
    },
    {
      "cell_type": "markdown",
      "metadata": {
        "id": "BEB89hi9ntQ6"
      },
      "source": [
        "## A4: Observations from the data.\r\n",
        "- The Customers with Invalid email address are distributed almost equally on the basis of Gender.\r\n",
        "- Higher the Age Bracket, Higher is the chance that customers might give an invalid email address\r\n",
        "- Retirement, ISA & Pension product Categories observe the top 3 bulk of invalid email address aongst its customers\r\n",
        "- Customers who have been tagged for follow up on Invalid Email address are highest in Pension Product Category followed by Retirement"
      ]
    },
    {
      "cell_type": "markdown",
      "metadata": {
        "run_control": {
          "marked": true
        },
        "id": "E-_9fUXf21PW"
      },
      "source": [
        "## Q5: The Managing Director of Pru Wealth needs to see how policy value differs between other variables in the database (e.g. customer demographics) . They don't have time to read a report, so have asked for a cool visualisation that tells a story.\n",
        "\n",
        "Visualise something cool, tell us a story! You can use packages like Matplotlib, Seaborn or Plotly.Tell us why you chose to visualise the data in this way and how it can be used from a business perspective.\n"
      ]
    },
    {
      "cell_type": "code",
      "metadata": {
        "colab": {
          "base_uri": "https://localhost:8080/",
          "height": 817
        },
        "id": "5dvIQyWvddpv",
        "outputId": "32e32e77-9bfc-4170-d1c1-af9f1f68c2fe"
      },
      "source": [
        "# Analyze the Data for Current Year\r\n",
        "df_curr_year = df_merge_final[df_merge_final[\"Year\"] == \"2019\"]\r\n",
        "df_curr_year_by_pc = df_curr_year.groupby(by=[\"Product Category\"]).sum([\"Policy value\"])\r\n",
        "#df_curr_year_by_pc\r\n",
        "df_curr_year"
      ],
      "execution_count": 69,
      "outputs": [
        {
          "output_type": "execute_result",
          "data": {
            "text/html": [
              "<div>\n",
              "<style scoped>\n",
              "    .dataframe tbody tr th:only-of-type {\n",
              "        vertical-align: middle;\n",
              "    }\n",
              "\n",
              "    .dataframe tbody tr th {\n",
              "        vertical-align: top;\n",
              "    }\n",
              "\n",
              "    .dataframe thead th {\n",
              "        text-align: right;\n",
              "    }\n",
              "</style>\n",
              "<table border=\"1\" class=\"dataframe\">\n",
              "  <thead>\n",
              "    <tr style=\"text-align: right;\">\n",
              "      <th></th>\n",
              "      <th>Customer ID</th>\n",
              "      <th>Email</th>\n",
              "      <th>Gender</th>\n",
              "      <th>Age</th>\n",
              "      <th>Postcode</th>\n",
              "      <th>IsValidEmail</th>\n",
              "      <th>Policy Number</th>\n",
              "      <th>Product Category</th>\n",
              "      <th>Product Name</th>\n",
              "      <th>Policy Value</th>\n",
              "      <th>Policy Start Date</th>\n",
              "      <th>Date</th>\n",
              "      <th>Policy_Value_Snapshot</th>\n",
              "      <th>Age Bracket</th>\n",
              "      <th>Year</th>\n",
              "      <th>Year_Month</th>\n",
              "    </tr>\n",
              "  </thead>\n",
              "  <tbody>\n",
              "    <tr>\n",
              "      <th>32329</th>\n",
              "      <td>CO408564</td>\n",
              "      <td>EDAWLTREY8Q@NETSCAPE.COM</td>\n",
              "      <td>Female</td>\n",
              "      <td>65</td>\n",
              "      <td>None</td>\n",
              "      <td>Y</td>\n",
              "      <td>ANN1221</td>\n",
              "      <td>ANNUITY</td>\n",
              "      <td>STANDARD ANNUITY</td>\n",
              "      <td>0.0</td>\n",
              "      <td>2009-10-20 00:00:00</td>\n",
              "      <td>2019-01-31 00:00:00</td>\n",
              "      <td>0.0</td>\n",
              "      <td>60-69</td>\n",
              "      <td>2019</td>\n",
              "      <td>2019-01</td>\n",
              "    </tr>\n",
              "    <tr>\n",
              "      <th>39745</th>\n",
              "      <td>CO125958</td>\n",
              "      <td>DLAINTONGO@SFGATE.COM</td>\n",
              "      <td>Male</td>\n",
              "      <td>64</td>\n",
              "      <td>133 41</td>\n",
              "      <td>Y</td>\n",
              "      <td>ANN1225</td>\n",
              "      <td>ANNUITY</td>\n",
              "      <td>STANDARD ANNUITY</td>\n",
              "      <td>0.0</td>\n",
              "      <td>2013-05-05 00:00:00</td>\n",
              "      <td>2019-01-31 00:00:00</td>\n",
              "      <td>0.0</td>\n",
              "      <td>60-69</td>\n",
              "      <td>2019</td>\n",
              "      <td>2019-01</td>\n",
              "    </tr>\n",
              "    <tr>\n",
              "      <th>23528</th>\n",
              "      <td>CO210415</td>\n",
              "      <td>CJAGGSIT@OMNITURE.COM</td>\n",
              "      <td>Male</td>\n",
              "      <td>69</td>\n",
              "      <td>8411</td>\n",
              "      <td>Y</td>\n",
              "      <td>ANN1372</td>\n",
              "      <td>ANNUITY</td>\n",
              "      <td>STANDARD ANNUITY</td>\n",
              "      <td>0.0</td>\n",
              "      <td>2009-08-20 00:00:00</td>\n",
              "      <td>2019-01-31 00:00:00</td>\n",
              "      <td>0.0</td>\n",
              "      <td>60-69</td>\n",
              "      <td>2019</td>\n",
              "      <td>2019-01</td>\n",
              "    </tr>\n",
              "    <tr>\n",
              "      <th>15734</th>\n",
              "      <td>CO545536</td>\n",
              "      <td>VPEGGSK3@@@SPRINGER.COM</td>\n",
              "      <td>Male</td>\n",
              "      <td>74</td>\n",
              "      <td>46100-000</td>\n",
              "      <td>N</td>\n",
              "      <td>ANN1389</td>\n",
              "      <td>ANNUITY</td>\n",
              "      <td>STANDARD ANNUITY</td>\n",
              "      <td>0.0</td>\n",
              "      <td>2013-05-13 00:00:00</td>\n",
              "      <td>2019-01-31 00:00:00</td>\n",
              "      <td>0.0</td>\n",
              "      <td>70+</td>\n",
              "      <td>2019</td>\n",
              "      <td>2019-01</td>\n",
              "    </tr>\n",
              "    <tr>\n",
              "      <th>4489</th>\n",
              "      <td>CO745114</td>\n",
              "      <td>HPUCKEREI@MIT.EDU</td>\n",
              "      <td>Male</td>\n",
              "      <td>86</td>\n",
              "      <td>None</td>\n",
              "      <td>Y</td>\n",
              "      <td>ANN1426</td>\n",
              "      <td>ANNUITY</td>\n",
              "      <td>STANDARD ANNUITY</td>\n",
              "      <td>0.0</td>\n",
              "      <td>2013-09-08 00:00:00</td>\n",
              "      <td>2019-01-31 00:00:00</td>\n",
              "      <td>0.0</td>\n",
              "      <td>70+</td>\n",
              "      <td>2019</td>\n",
              "      <td>2019-01</td>\n",
              "    </tr>\n",
              "    <tr>\n",
              "      <th>...</th>\n",
              "      <td>...</td>\n",
              "      <td>...</td>\n",
              "      <td>...</td>\n",
              "      <td>...</td>\n",
              "      <td>...</td>\n",
              "      <td>...</td>\n",
              "      <td>...</td>\n",
              "      <td>...</td>\n",
              "      <td>...</td>\n",
              "      <td>...</td>\n",
              "      <td>...</td>\n",
              "      <td>...</td>\n",
              "      <td>...</td>\n",
              "      <td>...</td>\n",
              "      <td>...</td>\n",
              "      <td>...</td>\n",
              "    </tr>\n",
              "    <tr>\n",
              "      <th>63718</th>\n",
              "      <td>CO415921</td>\n",
              "      <td>CGILDERRM@REVERBNATION.COM</td>\n",
              "      <td>Female</td>\n",
              "      <td>47</td>\n",
              "      <td>None</td>\n",
              "      <td>Y</td>\n",
              "      <td>RET100995</td>\n",
              "      <td>RETIREMENT</td>\n",
              "      <td>RETIREMENT ACCOUNT</td>\n",
              "      <td>804489.0</td>\n",
              "      <td>2017-07-03 00:00:00</td>\n",
              "      <td>2019-01-31 00:00:00</td>\n",
              "      <td>804489.0</td>\n",
              "      <td>40-49</td>\n",
              "      <td>2019</td>\n",
              "      <td>2019-01</td>\n",
              "    </tr>\n",
              "    <tr>\n",
              "      <th>12167</th>\n",
              "      <td>CO643882</td>\n",
              "      <td>LOKEENANRN@EUROPA.EU</td>\n",
              "      <td>Male</td>\n",
              "      <td>77</td>\n",
              "      <td>17209 CEDEX</td>\n",
              "      <td>Y</td>\n",
              "      <td>RET100996</td>\n",
              "      <td>RETIREMENT</td>\n",
              "      <td>RETIREMENT ACCOUNT</td>\n",
              "      <td>890950.0</td>\n",
              "      <td>2017-04-30 00:00:00</td>\n",
              "      <td>2019-01-31 00:00:00</td>\n",
              "      <td>890950.0</td>\n",
              "      <td>70+</td>\n",
              "      <td>2019</td>\n",
              "      <td>2019-01</td>\n",
              "    </tr>\n",
              "    <tr>\n",
              "      <th>24963</th>\n",
              "      <td>CO795420</td>\n",
              "      <td>.</td>\n",
              "      <td>Female</td>\n",
              "      <td>68</td>\n",
              "      <td>680011</td>\n",
              "      <td>N</td>\n",
              "      <td>RET100997</td>\n",
              "      <td>RETIREMENT</td>\n",
              "      <td>RETIREMENT ACCOUNT</td>\n",
              "      <td>49384.0</td>\n",
              "      <td>2017-12-11 00:00:00</td>\n",
              "      <td>2019-01-31 00:00:00</td>\n",
              "      <td>49384.0</td>\n",
              "      <td>60-69</td>\n",
              "      <td>2019</td>\n",
              "      <td>2019-01</td>\n",
              "    </tr>\n",
              "    <tr>\n",
              "      <th>32092</th>\n",
              "      <td>CO213842</td>\n",
              "      <td>THYATTRP@FASTCOMPANY.COM</td>\n",
              "      <td>Male</td>\n",
              "      <td>65</td>\n",
              "      <td>None</td>\n",
              "      <td>Y</td>\n",
              "      <td>RET100998</td>\n",
              "      <td>RETIREMENT</td>\n",
              "      <td>RETIREMENT ACCOUNT</td>\n",
              "      <td>569818.0</td>\n",
              "      <td>2018-03-27 00:00:00</td>\n",
              "      <td>2019-01-31 00:00:00</td>\n",
              "      <td>569818.0</td>\n",
              "      <td>60-69</td>\n",
              "      <td>2019</td>\n",
              "      <td>2019-01</td>\n",
              "    </tr>\n",
              "    <tr>\n",
              "      <th>32927</th>\n",
              "      <td>CO936943</td>\n",
              "      <td>FOSTRIDGERQ@EDUBLOGS.ORG</td>\n",
              "      <td>Female</td>\n",
              "      <td>65</td>\n",
              "      <td>None</td>\n",
              "      <td>Y</td>\n",
              "      <td>RET100999</td>\n",
              "      <td>RETIREMENT</td>\n",
              "      <td>RETIREMENT ACCOUNT</td>\n",
              "      <td>955939.0</td>\n",
              "      <td>2018-12-21 00:00:00</td>\n",
              "      <td>2019-01-31 00:00:00</td>\n",
              "      <td>955939.0</td>\n",
              "      <td>60-69</td>\n",
              "      <td>2019</td>\n",
              "      <td>2019-01</td>\n",
              "    </tr>\n",
              "  </tbody>\n",
              "</table>\n",
              "<p>1635 rows × 16 columns</p>\n",
              "</div>"
            ],
            "text/plain": [
              "      Customer ID                       Email  ...  Year  Year_Month\n",
              "32329    CO408564    EDAWLTREY8Q@NETSCAPE.COM  ...  2019     2019-01\n",
              "39745    CO125958       DLAINTONGO@SFGATE.COM  ...  2019     2019-01\n",
              "23528    CO210415       CJAGGSIT@OMNITURE.COM  ...  2019     2019-01\n",
              "15734    CO545536     VPEGGSK3@@@SPRINGER.COM  ...  2019     2019-01\n",
              "4489     CO745114           HPUCKEREI@MIT.EDU  ...  2019     2019-01\n",
              "...           ...                         ...  ...   ...         ...\n",
              "63718    CO415921  CGILDERRM@REVERBNATION.COM  ...  2019     2019-01\n",
              "12167    CO643882        LOKEENANRN@EUROPA.EU  ...  2019     2019-01\n",
              "24963    CO795420                           .  ...  2019     2019-01\n",
              "32092    CO213842    THYATTRP@FASTCOMPANY.COM  ...  2019     2019-01\n",
              "32927    CO936943    FOSTRIDGERQ@EDUBLOGS.ORG  ...  2019     2019-01\n",
              "\n",
              "[1635 rows x 16 columns]"
            ]
          },
          "metadata": {
            "tags": []
          },
          "execution_count": 69
        }
      ]
    },
    {
      "cell_type": "code",
      "metadata": {
        "colab": {
          "base_uri": "https://localhost:8080/",
          "height": 233
        },
        "id": "4Nya1BzPqK-C",
        "outputId": "fae2a62e-6c1a-404d-8b94-ff638a3e409f"
      },
      "source": [
        "# Analyze the Data for Previous Year\r\n",
        "df_prev_year = df_merge_final[df_merge_final[\"Year\"] == \"2018\"]\r\n",
        "df_prev_year_by_pc = df_prev_year.groupby(by=[\"Product Category\"]).sum([\"Policy value\"])\r\n",
        "#df_prev_year_by_pc"
      ],
      "execution_count": 34,
      "outputs": [
        {
          "output_type": "execute_result",
          "data": {
            "text/html": [
              "<div>\n",
              "<style scoped>\n",
              "    .dataframe tbody tr th:only-of-type {\n",
              "        vertical-align: middle;\n",
              "    }\n",
              "\n",
              "    .dataframe tbody tr th {\n",
              "        vertical-align: top;\n",
              "    }\n",
              "\n",
              "    .dataframe thead th {\n",
              "        text-align: right;\n",
              "    }\n",
              "</style>\n",
              "<table border=\"1\" class=\"dataframe\">\n",
              "  <thead>\n",
              "    <tr style=\"text-align: right;\">\n",
              "      <th></th>\n",
              "      <th>Age</th>\n",
              "      <th>Policy Value</th>\n",
              "      <th>Policy_Value_Snapshot</th>\n",
              "    </tr>\n",
              "    <tr>\n",
              "      <th>Product Category</th>\n",
              "      <th></th>\n",
              "      <th></th>\n",
              "      <th></th>\n",
              "    </tr>\n",
              "  </thead>\n",
              "  <tbody>\n",
              "    <tr>\n",
              "      <th>ANNUITY</th>\n",
              "      <td>93312</td>\n",
              "      <td>0.000000e+00</td>\n",
              "      <td>0.000000e+00</td>\n",
              "    </tr>\n",
              "    <tr>\n",
              "      <th>BOND</th>\n",
              "      <td>118008</td>\n",
              "      <td>9.238008e+06</td>\n",
              "      <td>1.240415e+07</td>\n",
              "    </tr>\n",
              "    <tr>\n",
              "      <th>ISA</th>\n",
              "      <td>138360</td>\n",
              "      <td>1.234255e+07</td>\n",
              "      <td>1.584761e+07</td>\n",
              "    </tr>\n",
              "    <tr>\n",
              "      <th>PENSION</th>\n",
              "      <td>132780</td>\n",
              "      <td>1.103570e+07</td>\n",
              "      <td>1.435912e+07</td>\n",
              "    </tr>\n",
              "    <tr>\n",
              "      <th>RETIREMENT</th>\n",
              "      <td>641064</td>\n",
              "      <td>5.115996e+09</td>\n",
              "      <td>3.508388e+09</td>\n",
              "    </tr>\n",
              "  </tbody>\n",
              "</table>\n",
              "</div>"
            ],
            "text/plain": [
              "                     Age  Policy Value  Policy_Value_Snapshot\n",
              "Product Category                                             \n",
              "ANNUITY            93312  0.000000e+00           0.000000e+00\n",
              "BOND              118008  9.238008e+06           1.240415e+07\n",
              "ISA               138360  1.234255e+07           1.584761e+07\n",
              "PENSION           132780  1.103570e+07           1.435912e+07\n",
              "RETIREMENT        641064  5.115996e+09           3.508388e+09"
            ]
          },
          "metadata": {
            "tags": []
          },
          "execution_count": 34
        }
      ]
    },
    {
      "cell_type": "code",
      "metadata": {
        "run_control": {
          "marked": true
        },
        "colab": {
          "base_uri": "https://localhost:8080/",
          "height": 559
        },
        "id": "bLbEAxeK21PW",
        "outputId": "d2c8e5e2-a1b5-4f9c-e222-936e147fc4ce"
      },
      "source": [
        "# Set Plot Area and Chart Placement\n",
        "fig = plt.figure(figsize = (30,15))\n",
        "ax0 = plt.subplot2grid(shape=(3, 3), loc=(0, 0), colspan=3) \n",
        "ax1 = plt.subplot2grid(shape=(3, 3), loc=(1, 0), colspan=1) \n",
        "ax2 = plt.subplot2grid(shape=(3, 3), loc=(1, 1), colspan=1) \n",
        "ax3 = plt.subplot2grid(shape=(3, 3), loc=(2, 0), colspan=1) \n",
        "ax4 = plt.subplot2grid(shape=(3, 3), loc=(2, 1), colspan=1) \n",
        "ax5 = plt.subplot2grid(shape=(3, 3), loc=(1, 2), colspan=1, rowspan=2) \n",
        "\n",
        "# Policy Value Growth over years\n",
        "sns.barplot(x=df_merge_final[\"Year\"],\n",
        "            y=df_merge_final[\"Policy Value\"],\n",
        "            palette='Spectral',\n",
        "            estimator=sum,\n",
        "            ax=ax0).set(title='Policy Value Growth by Year')\n",
        "\n",
        "for rect in ax0.patches:\n",
        "    ax0.text (rect.get_x() + rect.get_width() / 2,rect.get_height(), round(rect.get_height(),2), weight='bold' )\n",
        "\n",
        "# Pie Chart for Age Bracket Policy Value of Current Year\n",
        "df_curr_year_pie_ageb = df_curr_year.groupby(by=[\"Age Bracket\"]).sum(\"Policy Value\")\n",
        "df_curr_year_pie_ageb.plot.pie(y=\"Policy Value\",\n",
        "                               title=\"Policy Value Distrution Count by Age - 2019\",\n",
        "                               autopct=\"%.1f%%\",\n",
        "                               ax=ax1)\n",
        "\n",
        "# Pie Chart for Age Bracket Policy Value of Previous Year\n",
        "df_prev_year_pie_ageb = df_prev_year.groupby(by=[\"Age Bracket\"]).sum(\"Policy Value\")\n",
        "df_prev_year_pie_ageb.plot.pie(y=\"Policy Value\",\n",
        "                               title=\"Policy Value Distrution Count by Age - 2018\",\n",
        "                               autopct=\"%.1f%%\",\n",
        "                               ax=ax2)\n",
        "\n",
        "# Mean Policy Value by Product Category of Current Year\n",
        "sns.barplot(x=df_curr_year[\"Product Category\"],\n",
        "            y=df_curr_year[\"Policy Value\"],\n",
        "            palette='Spectral',\n",
        "            ax=ax3).set(title='Mean Policy Value by Product Category - 2019')\n",
        "\n",
        "for rect in ax3.patches:\n",
        "    ax3.text (rect.get_x() + rect.get_width() / 2,rect.get_height(), round(rect.get_height(),2), weight='bold' )\n",
        "\n",
        "# Mean Policy Value by Product Category of Previous Year\n",
        "sns.barplot(x=df_prev_year[\"Product Category\"],\n",
        "            y=df_prev_year[\"Policy Value\"],\n",
        "            palette='Spectral',\n",
        "            ax=ax4).set(title='Mean Policy Value by Product Category - 2018')\n",
        "\n",
        "for rect in ax4.patches:\n",
        "    ax4.text (rect.get_x() + rect.get_width() / 2,rect.get_height(), round(rect.get_height(),2), weight='bold' )\n",
        "\n",
        "# Total of Policy Value by Product Category Current Year\n",
        "sns.barplot(x=df_curr_year[\"Product Category\"],\n",
        "            y=df_curr_year[\"Policy Value\"],\n",
        "            palette='Spectral',\n",
        "            estimator=sum,\n",
        "            ax=ax5).set(title='Policy Value Total by Products')\n",
        "\n",
        "for rect in ax5.patches:\n",
        "    ax5.text (rect.get_x() + rect.get_width() / 2,rect.get_height(), round(rect.get_height(),2), weight='bold' )\n"
      ],
      "execution_count": 70,
      "outputs": [
        {
          "output_type": "display_data",
          "data": {
            "image/png": "[encoded data removed]",
            "text/plain": [
              "<Figure size 2160x1080 with 6 Axes>"
            ]
          },
          "metadata": {
            "tags": [],
            "needs_background": "light"
          }
        }
      ]
    },
    {
      "cell_type": "markdown",
      "metadata": {
        "id": "_RnLBU0z45vv"
      },
      "source": [
        "## A5: Chart Analysis\r\n",
        "- The mean Policy Value across all Product Categories has remained same with marginal improvement in Retirement Product since previous year\r\n",
        "- The Customers from Retirement Age brackets above 60 years garner about 60% of the Mean Policy Value for current and previous years\r\n",
        "- The young Customers below 40 years account to roughly 5% of the Mean Policy Value for current and previous years and has declined marginally since last year "
      ]
    }
  ]
}